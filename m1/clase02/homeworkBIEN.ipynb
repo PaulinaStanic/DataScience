{
 "cells": [
  {
   "cell_type": "code",
   "execution_count": null,
   "metadata": {},
   "outputs": [],
   "source": [
    "archivo2 = open('Emisiones_CO2.csv', 'r', encoding='cp1252')"
   ]
  },
  {
   "cell_type": "code",
   "execution_count": null,
   "metadata": {},
   "outputs": [],
   "source": [
    "archivo2"
   ]
  },
  {
   "cell_type": "code",
   "execution_count": null,
   "metadata": {},
   "outputs": [],
   "source": [
    "texto_lista1 = archivo2.readlines()"
   ]
  },
  {
   "cell_type": "code",
   "execution_count": null,
   "metadata": {},
   "outputs": [],
   "source": [
    "cantidad_lineas1 = len(texto_lista1)"
   ]
  },
  {
   "cell_type": "code",
   "execution_count": null,
   "metadata": {},
   "outputs": [],
   "source": [
    "cantidad_lineas1"
   ]
  },
  {
   "cell_type": "code",
   "execution_count": null,
   "metadata": {},
   "outputs": [],
   "source": [
    "dicc_emisiones = {  'cod_pais' : [],\n",
    "                    'nom_pais' : [],\n",
    "                    'region' : [],\n",
    "                    'anio' : [],\n",
    "                    'co2' : [],\n",
    "                    'co2_percapita' : []}"
   ]
  },
  {
   "cell_type": "code",
   "execution_count": null,
   "metadata": {},
   "outputs": [],
   "source": [
    "for i in range(1, cantidad_lineas1):\n",
    "    fila1 = texto_lista1[i].strip()\n",
    "    lista_fila = fila1.split('|')\n",
    "    dicc_emisiones['cod_pais'].append(lista_fila[0])\n",
    "    dicc_emisiones['nom_pais'].append(lista_fila[1])\n",
    "    dicc_emisiones['region'].append(lista_fila[2])\n",
    "    dicc_emisiones['anio'].append(int(lista_fila[3]))\n",
    "    dicc_emisiones['co2'].append(lista_fila[4])\n",
    "    dicc_emisiones['co2_percapita'].append(lista_fila[5])\n",
    "    #if (i == 170):\n",
    "      #  print(lista_fila)"
   ]
  },
  {
   "cell_type": "code",
   "execution_count": null,
   "metadata": {},
   "outputs": [],
   "source": [
    "print(dicc_emisiones)"
   ]
  },
  {
   "cell_type": "code",
   "execution_count": null,
   "metadata": {},
   "outputs": [],
   "source": [
    "type(lista_fila[0])"
   ]
  },
  {
   "cell_type": "code",
   "execution_count": null,
   "metadata": {},
   "outputs": [],
   "source": [
    "type(lista_fila[1])"
   ]
  },
  {
   "cell_type": "code",
   "execution_count": null,
   "metadata": {},
   "outputs": [],
   "source": [
    "type(lista_fila[5])"
   ]
  },
  {
   "cell_type": "code",
   "execution_count": 72,
   "metadata": {},
   "outputs": [
    {
     "ename": "AttributeError",
     "evalue": "'float' object has no attribute 'replace'",
     "output_type": "error",
     "traceback": [
      "\u001b[0;31m---------------------------------------------------------------------------\u001b[0m",
      "\u001b[0;31mAttributeError\u001b[0m                            Traceback (most recent call last)",
      "Cell \u001b[0;32mIn[72], line 5\u001b[0m\n\u001b[1;32m      2\u001b[0m \u001b[39mfor\u001b[39;00m idx, val \u001b[39min\u001b[39;00m \u001b[39menumerate\u001b[39m(dicc_emisiones[\u001b[39m'\u001b[39m\u001b[39mco2\u001b[39m\u001b[39m'\u001b[39m]):\n\u001b[1;32m      3\u001b[0m     \u001b[39m# verifico que el valor no sea nulo\u001b[39;00m\n\u001b[1;32m      4\u001b[0m     \u001b[39mif\u001b[39;00m val:\n\u001b[0;32m----> 5\u001b[0m         val \u001b[39m=\u001b[39m val\u001b[39m.\u001b[39;49mreplace(\u001b[39m'\u001b[39m\u001b[39m.\u001b[39m\u001b[39m'\u001b[39m, \u001b[39m'\u001b[39m\u001b[39m'\u001b[39m) \u001b[39m#reemplazo las comas por strings vacios\u001b[39;00m\n\u001b[1;32m      6\u001b[0m         val \u001b[39m=\u001b[39m val\u001b[39m.\u001b[39mreplace(\u001b[39m'\u001b[39m\u001b[39m,\u001b[39m\u001b[39m'\u001b[39m, \u001b[39m'\u001b[39m\u001b[39m.\u001b[39m\u001b[39m'\u001b[39m) \u001b[39m#reemlplazo las comas \u001b[39;00m\n\u001b[1;32m      7\u001b[0m         dicc_emisiones[\u001b[39m'\u001b[39m\u001b[39mco2\u001b[39m\u001b[39m'\u001b[39m][idx] \u001b[39m=\u001b[39m \u001b[39mfloat\u001b[39m(val) \u001b[39m#convierto el valor a float y lo vuelvo a guardar en la lista de emisiones de co2\u001b[39;00m\n",
      "\u001b[0;31mAttributeError\u001b[0m: 'float' object has no attribute 'replace'"
     ]
    }
   ],
   "source": [
    "#recorro la lista y numero la lista de emisiones de co2\n",
    "for idx, val in enumerate(dicc_emisiones['co2']):\n",
    "    # verifico que el valor no sea nulo\n",
    "    if val:\n",
    "        val = val.replace('.', '') #reemplazo las comas por strings vacios\n",
    "        val = val.replace(',', '.') #reemlplazo las comas \n",
    "        dicc_emisiones['co2'][idx] = float(val) #convierto el valor a float y lo vuelvo a guardar en la lista de emisiones de co2"
   ]
  },
  {
   "cell_type": "code",
   "execution_count": 60,
   "metadata": {},
   "outputs": [],
   "source": [
    "#recorro la lista y numero la lista de emisiones de co2_percapita\n",
    "for idx, val in enumerate(dicc_emisiones['co2_percapita']):\n",
    "    # verifico que el valor no sea nulo\n",
    "    if val:\n",
    "        val = val.replace('.', '') #reemplazo las comas por strings vacios\n",
    "        val = val.replace(',', '.') #reemlplazo las comas \n",
    "        dicc_emisiones['co2_percapita'][idx] = float(val) #convierto el valor a float y lo vuelvo a guardar en la lista de emisiones de co2_percapita"
   ]
  },
  {
   "cell_type": "code",
   "execution_count": 69,
   "metadata": {},
   "outputs": [
    {
     "name": "stdout",
     "output_type": "stream",
     "text": [
      "El tipo de dato de la columna   cod_pais es  <class 'str'>\n",
      "El tipo de dato de la columna   nom_pais es  <class 'str'>\n",
      "El tipo de dato de la columna   region es  <class 'str'>\n",
      "El tipo de dato de la columna   anio es  <class 'int'>\n",
      "El tipo de dato de la columna   co2 es  <class 'float'>\n",
      "El tipo de dato de la columna   co2_percapita es  <class 'float'>\n"
     ]
    }
   ],
   "source": [
    "for i in dicc_emisiones.keys():\n",
    "    print('El tipo de dato de la columna  ', (i) , 'es ' , type(dicc_emisiones[i][150]))"
   ]
  },
  {
   "cell_type": "code",
   "execution_count": 71,
   "metadata": {},
   "outputs": [
    {
     "name": "stdout",
     "output_type": "stream",
     "text": [
      "Cantidad de valores vacíos eb la columna   cod_pais :  0\n",
      "Cantidad de valores vacíos eb la columna   nom_pais :  0\n",
      "Cantidad de valores vacíos eb la columna   region :  0\n",
      "Cantidad de valores vacíos eb la columna   anio :  0\n",
      "Cantidad de valores vacíos eb la columna   co2 :  2095\n",
      "Cantidad de valores vacíos eb la columna   co2_percapita :  2098\n"
     ]
    }
   ],
   "source": [
    "for i in dicc_emisiones.keys():\n",
    "    print('Cantidad de valores vacíos eb la columna  ', (i) , ': ' , dicc_emisiones[i].count(''))"
   ]
  },
  {
   "cell_type": "code",
   "execution_count": 74,
   "metadata": {},
   "outputs": [],
   "source": [
    "region = 'América Latina y Caribe'\n",
    "anio = 2010\n",
    "emisiones = 0\n",
    "for idx, val in enumerate(dicc_emisiones['region']):\n",
    "    if val == region and dicc_emisiones['anio'][idx] == anio and isinstance(dicc_emisiones['co2'][idx], float):\n",
    "        emisiones += dicc_emisiones['co2'][idx]"
   ]
  },
  {
   "cell_type": "code",
   "execution_count": 75,
   "metadata": {},
   "outputs": [
    {
     "data": {
      "text/plain": [
       "1691634.8009999995"
      ]
     },
     "execution_count": 75,
     "metadata": {},
     "output_type": "execute_result"
    }
   ],
   "source": [
    "emisiones"
   ]
  }
 ],
 "metadata": {
  "kernelspec": {
   "display_name": "Python 3",
   "language": "python",
   "name": "python3"
  },
  "language_info": {
   "codemirror_mode": {
    "name": "ipython",
    "version": 3
   },
   "file_extension": ".py",
   "mimetype": "text/x-python",
   "name": "python",
   "nbconvert_exporter": "python",
   "pygments_lexer": "ipython3",
   "version": "3.10.10"
  },
  "orig_nbformat": 4
 },
 "nbformat": 4,
 "nbformat_minor": 2
}
