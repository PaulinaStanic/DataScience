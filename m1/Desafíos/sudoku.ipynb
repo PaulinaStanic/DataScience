{
 "cells": [
  {
   "cell_type": "code",
   "execution_count": 13,
   "metadata": {},
   "outputs": [],
   "source": [
    "import numpy as np"
   ]
  },
  {
   "cell_type": "code",
   "execution_count": 15,
   "metadata": {},
   "outputs": [
    {
     "data": {
      "text/plain": [
       "array([[6., 6., 3., 9., 3., 8., 9., 3., 7.],\n",
       "       [1., 8., 8., 9., 4., 1., 1., 8., 7.],\n",
       "       [8., 0., 6., 5., 0., 1., 2., 1., 6.],\n",
       "       [2., 8., 2., 7., 4., 9., 2., 4., 7.],\n",
       "       [2., 8., 3., 2., 6., 3., 8., 8., 5.],\n",
       "       [5., 9., 7., 8., 2., 0., 0., 0., 2.],\n",
       "       [2., 9., 6., 1., 1., 2., 1., 3., 1.],\n",
       "       [4., 9., 9., 2., 1., 4., 7., 2., 9.],\n",
       "       [1., 2., 3., 3., 7., 4., 4., 9., 2.]])"
      ]
     },
     "execution_count": 15,
     "metadata": {},
     "output_type": "execute_result"
    }
   ],
   "source": [
    "# sudoku = np.zeros (9*9).reshape(9,9)\n",
    "sudoku = np.zeros(9*9).reshape(9,9)\n",
    "for i in range (9):\n",
    "    for j in range(9):\n",
    "        a = np.random.randint(1,10)\n",
    "        condicion_fila = bool (np.sum(np.isin(sudoku[i,:],a)))\n",
    "        # la cantidad de veces que aparece un numero. si el numero aparece, el resultado es true.\n",
    "\n",
    "        condicion_columna = bool (np.sum(np.isin(sudoku[i,:],a )))\n",
    "         # la cantidad de veces que aparece un numero. si el numero aparece, el resultado es true.\n",
    "\n",
    "        # condicion_mini = bool (np.sum(np.isin(sudoku[3(i//3):3(1+i//3),3j//3:3(1+j//3)],a)))\n",
    "        condicion_mini =  bool (np.sum(np.isin(sudoku[3*(i//3):3*(1+i//3),3*j//3:3*(1+j//3)],a)))\n",
    "\n",
    "        if not (condicion_fila and condicion_columna and condicion_mini):\n",
    "            sudoku[i,j]=a\n",
    "\n",
    "sudoku"
   ]
  },
  {
   "cell_type": "code",
   "execution_count": null,
   "metadata": {},
   "outputs": [],
   "source": []
  }
 ],
 "metadata": {
  "kernelspec": {
   "display_name": "Python 3",
   "language": "python",
   "name": "python3"
  },
  "language_info": {
   "codemirror_mode": {
    "name": "ipython",
    "version": 3
   },
   "file_extension": ".py",
   "mimetype": "text/x-python",
   "name": "python",
   "nbconvert_exporter": "python",
   "pygments_lexer": "ipython3",
   "version": "3.11.4"
  },
  "orig_nbformat": 4
 },
 "nbformat": 4,
 "nbformat_minor": 2
}
